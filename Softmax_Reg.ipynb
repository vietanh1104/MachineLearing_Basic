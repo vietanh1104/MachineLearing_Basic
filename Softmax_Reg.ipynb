{
 "cells": [
  {
   "cell_type": "code",
   "execution_count": 1,
   "metadata": {
    "collapsed": true
   },
   "outputs": [],
   "source": [
    "import numpy as np\n",
    "import pandas as pd\n",
    "np.random.seed(1)"
   ]
  },
  {
   "cell_type": "code",
   "execution_count": 2,
   "outputs": [
    {
     "data": {
      "text/plain": "<pandas.io.formats.style.Styler at 0x198f96ede50>",
      "text/html": "<style type=\"text/css\">\n#T_b9e06_row0_col0, #T_b9e06_row0_col2, #T_b9e06_row0_col3, #T_b9e06_row0_col5, #T_b9e06_row0_col6, #T_b9e06_row0_col9, #T_b9e06_row0_col10, #T_b9e06_row0_col11, #T_b9e06_row1_col2, #T_b9e06_row1_col7, #T_b9e06_row1_col11, #T_b9e06_row2_col11, #T_b9e06_row3_col1, #T_b9e06_row3_col3, #T_b9e06_row3_col4, #T_b9e06_row3_col8, #T_b9e06_row4_col0, #T_b9e06_row4_col2, #T_b9e06_row4_col3, #T_b9e06_row4_col5, #T_b9e06_row4_col6, #T_b9e06_row4_col9, #T_b9e06_row4_col10, #T_b9e06_row4_col11 {\n  background-color: #fff7fb;\n  color: #000000;\n}\n#T_b9e06_row0_col1, #T_b9e06_row4_col1 {\n  background-color: #187cb6;\n  color: #f1f1f1;\n}\n#T_b9e06_row0_col4, #T_b9e06_row4_col4 {\n  background-color: #f8f1f8;\n  color: #000000;\n}\n#T_b9e06_row0_col7, #T_b9e06_row4_col7 {\n  background-color: #046198;\n  color: #f1f1f1;\n}\n#T_b9e06_row0_col8, #T_b9e06_row1_col1, #T_b9e06_row1_col3, #T_b9e06_row1_col4, #T_b9e06_row1_col5, #T_b9e06_row1_col6, #T_b9e06_row1_col9, #T_b9e06_row1_col10, #T_b9e06_row2_col10, #T_b9e06_row3_col0, #T_b9e06_row3_col2, #T_b9e06_row3_col7, #T_b9e06_row3_col10, #T_b9e06_row3_col11, #T_b9e06_row4_col8 {\n  background-color: #023858;\n  color: #f1f1f1;\n}\n#T_b9e06_row1_col0, #T_b9e06_row2_col0 {\n  background-color: #f0eaf4;\n  color: #000000;\n}\n#T_b9e06_row1_col8 {\n  background-color: #eee8f3;\n  color: #000000;\n}\n#T_b9e06_row2_col1 {\n  background-color: #0567a2;\n  color: #f1f1f1;\n}\n#T_b9e06_row2_col2 {\n  background-color: #f4eef6;\n  color: #000000;\n}\n#T_b9e06_row2_col3 {\n  background-color: #509ac6;\n  color: #f1f1f1;\n}\n#T_b9e06_row2_col4 {\n  background-color: #0872b1;\n  color: #f1f1f1;\n}\n#T_b9e06_row2_col5, #T_b9e06_row2_col8 {\n  background-color: #c4cbe3;\n  color: #000000;\n}\n#T_b9e06_row2_col6 {\n  background-color: #3f93c2;\n  color: #f1f1f1;\n}\n#T_b9e06_row2_col7, #T_b9e06_row3_col9 {\n  background-color: #e3e0ee;\n  color: #000000;\n}\n#T_b9e06_row2_col9 {\n  background-color: #0570b0;\n  color: #f1f1f1;\n}\n#T_b9e06_row3_col5 {\n  background-color: #91b5d6;\n  color: #000000;\n}\n#T_b9e06_row3_col6 {\n  background-color: #0569a5;\n  color: #f1f1f1;\n}\n</style>\n<table id=\"T_b9e06_\">\n  <thead>\n    <tr>\n      <th class=\"blank level0\" >&nbsp;</th>\n      <th class=\"col_heading level0 col0\" >fixed acidity</th>\n      <th class=\"col_heading level0 col1\" >volatile acidity</th>\n      <th class=\"col_heading level0 col2\" >citric acid</th>\n      <th class=\"col_heading level0 col3\" >residual sugar</th>\n      <th class=\"col_heading level0 col4\" >chlorides</th>\n      <th class=\"col_heading level0 col5\" >free sulfur dioxide</th>\n      <th class=\"col_heading level0 col6\" >total sulfur dioxide</th>\n      <th class=\"col_heading level0 col7\" >density</th>\n      <th class=\"col_heading level0 col8\" >pH</th>\n      <th class=\"col_heading level0 col9\" >sulphates</th>\n      <th class=\"col_heading level0 col10\" >alcohol</th>\n      <th class=\"col_heading level0 col11\" >quality</th>\n    </tr>\n  </thead>\n  <tbody>\n    <tr>\n      <th id=\"T_b9e06_level0_row0\" class=\"row_heading level0 row0\" >0</th>\n      <td id=\"T_b9e06_row0_col0\" class=\"data row0 col0\" >7.400000</td>\n      <td id=\"T_b9e06_row0_col1\" class=\"data row0 col1\" >0.700000</td>\n      <td id=\"T_b9e06_row0_col2\" class=\"data row0 col2\" >0.000000</td>\n      <td id=\"T_b9e06_row0_col3\" class=\"data row0 col3\" >1.900000</td>\n      <td id=\"T_b9e06_row0_col4\" class=\"data row0 col4\" >0.076000</td>\n      <td id=\"T_b9e06_row0_col5\" class=\"data row0 col5\" >11.000000</td>\n      <td id=\"T_b9e06_row0_col6\" class=\"data row0 col6\" >34.000000</td>\n      <td id=\"T_b9e06_row0_col7\" class=\"data row0 col7\" >0.997800</td>\n      <td id=\"T_b9e06_row0_col8\" class=\"data row0 col8\" >3.510000</td>\n      <td id=\"T_b9e06_row0_col9\" class=\"data row0 col9\" >0.560000</td>\n      <td id=\"T_b9e06_row0_col10\" class=\"data row0 col10\" >9.400000</td>\n      <td id=\"T_b9e06_row0_col11\" class=\"data row0 col11\" >5</td>\n    </tr>\n    <tr>\n      <th id=\"T_b9e06_level0_row1\" class=\"row_heading level0 row1\" >1</th>\n      <td id=\"T_b9e06_row1_col0\" class=\"data row1 col0\" >7.800000</td>\n      <td id=\"T_b9e06_row1_col1\" class=\"data row1 col1\" >0.880000</td>\n      <td id=\"T_b9e06_row1_col2\" class=\"data row1 col2\" >0.000000</td>\n      <td id=\"T_b9e06_row1_col3\" class=\"data row1 col3\" >2.600000</td>\n      <td id=\"T_b9e06_row1_col4\" class=\"data row1 col4\" >0.098000</td>\n      <td id=\"T_b9e06_row1_col5\" class=\"data row1 col5\" >25.000000</td>\n      <td id=\"T_b9e06_row1_col6\" class=\"data row1 col6\" >67.000000</td>\n      <td id=\"T_b9e06_row1_col7\" class=\"data row1 col7\" >0.996800</td>\n      <td id=\"T_b9e06_row1_col8\" class=\"data row1 col8\" >3.200000</td>\n      <td id=\"T_b9e06_row1_col9\" class=\"data row1 col9\" >0.680000</td>\n      <td id=\"T_b9e06_row1_col10\" class=\"data row1 col10\" >9.800000</td>\n      <td id=\"T_b9e06_row1_col11\" class=\"data row1 col11\" >5</td>\n    </tr>\n    <tr>\n      <th id=\"T_b9e06_level0_row2\" class=\"row_heading level0 row2\" >2</th>\n      <td id=\"T_b9e06_row2_col0\" class=\"data row2 col0\" >7.800000</td>\n      <td id=\"T_b9e06_row2_col1\" class=\"data row2 col1\" >0.760000</td>\n      <td id=\"T_b9e06_row2_col2\" class=\"data row2 col2\" >0.040000</td>\n      <td id=\"T_b9e06_row2_col3\" class=\"data row2 col3\" >2.300000</td>\n      <td id=\"T_b9e06_row2_col4\" class=\"data row2 col4\" >0.092000</td>\n      <td id=\"T_b9e06_row2_col5\" class=\"data row2 col5\" >15.000000</td>\n      <td id=\"T_b9e06_row2_col6\" class=\"data row2 col6\" >54.000000</td>\n      <td id=\"T_b9e06_row2_col7\" class=\"data row2 col7\" >0.997000</td>\n      <td id=\"T_b9e06_row2_col8\" class=\"data row2 col8\" >3.260000</td>\n      <td id=\"T_b9e06_row2_col9\" class=\"data row2 col9\" >0.650000</td>\n      <td id=\"T_b9e06_row2_col10\" class=\"data row2 col10\" >9.800000</td>\n      <td id=\"T_b9e06_row2_col11\" class=\"data row2 col11\" >5</td>\n    </tr>\n    <tr>\n      <th id=\"T_b9e06_level0_row3\" class=\"row_heading level0 row3\" >3</th>\n      <td id=\"T_b9e06_row3_col0\" class=\"data row3 col0\" >11.200000</td>\n      <td id=\"T_b9e06_row3_col1\" class=\"data row3 col1\" >0.280000</td>\n      <td id=\"T_b9e06_row3_col2\" class=\"data row3 col2\" >0.560000</td>\n      <td id=\"T_b9e06_row3_col3\" class=\"data row3 col3\" >1.900000</td>\n      <td id=\"T_b9e06_row3_col4\" class=\"data row3 col4\" >0.075000</td>\n      <td id=\"T_b9e06_row3_col5\" class=\"data row3 col5\" >17.000000</td>\n      <td id=\"T_b9e06_row3_col6\" class=\"data row3 col6\" >60.000000</td>\n      <td id=\"T_b9e06_row3_col7\" class=\"data row3 col7\" >0.998000</td>\n      <td id=\"T_b9e06_row3_col8\" class=\"data row3 col8\" >3.160000</td>\n      <td id=\"T_b9e06_row3_col9\" class=\"data row3 col9\" >0.580000</td>\n      <td id=\"T_b9e06_row3_col10\" class=\"data row3 col10\" >9.800000</td>\n      <td id=\"T_b9e06_row3_col11\" class=\"data row3 col11\" >6</td>\n    </tr>\n    <tr>\n      <th id=\"T_b9e06_level0_row4\" class=\"row_heading level0 row4\" >4</th>\n      <td id=\"T_b9e06_row4_col0\" class=\"data row4 col0\" >7.400000</td>\n      <td id=\"T_b9e06_row4_col1\" class=\"data row4 col1\" >0.700000</td>\n      <td id=\"T_b9e06_row4_col2\" class=\"data row4 col2\" >0.000000</td>\n      <td id=\"T_b9e06_row4_col3\" class=\"data row4 col3\" >1.900000</td>\n      <td id=\"T_b9e06_row4_col4\" class=\"data row4 col4\" >0.076000</td>\n      <td id=\"T_b9e06_row4_col5\" class=\"data row4 col5\" >11.000000</td>\n      <td id=\"T_b9e06_row4_col6\" class=\"data row4 col6\" >34.000000</td>\n      <td id=\"T_b9e06_row4_col7\" class=\"data row4 col7\" >0.997800</td>\n      <td id=\"T_b9e06_row4_col8\" class=\"data row4 col8\" >3.510000</td>\n      <td id=\"T_b9e06_row4_col9\" class=\"data row4 col9\" >0.560000</td>\n      <td id=\"T_b9e06_row4_col10\" class=\"data row4 col10\" >9.400000</td>\n      <td id=\"T_b9e06_row4_col11\" class=\"data row4 col11\" >5</td>\n    </tr>\n  </tbody>\n</table>\n"
     },
     "execution_count": 2,
     "metadata": {},
     "output_type": "execute_result"
    }
   ],
   "source": [
    "dataset = pd.read_csv(\"winequality-red.csv\", sep=\",\")\n",
    "dataset.head().style.background_gradient(axis=0)"
   ],
   "metadata": {
    "collapsed": false,
    "pycharm": {
     "name": "#%%\n"
    }
   }
  },
  {
   "cell_type": "code",
   "execution_count": 3,
   "outputs": [
    {
     "data": {
      "text/plain": "<pandas.io.formats.style.Styler at 0x198fc15f640>",
      "text/html": "<style type=\"text/css\">\n#T_f04ab_row0_col0 {\n  background-color: #63a2cb;\n  color: #f1f1f1;\n}\n#T_f04ab_row0_col1, #T_f04ab_row0_col4, #T_f04ab_row0_col8, #T_f04ab_row2_col5, #T_f04ab_row2_col6, #T_f04ab_row4_col0, #T_f04ab_row4_col2, #T_f04ab_row4_col3, #T_f04ab_row4_col9, #T_f04ab_row4_col10 {\n  background-color: #023858;\n  color: #f1f1f1;\n}\n#T_f04ab_row0_col2, #T_f04ab_row0_col5, #T_f04ab_row0_col6, #T_f04ab_row0_col7, #T_f04ab_row0_col9, #T_f04ab_row1_col0, #T_f04ab_row1_col2, #T_f04ab_row1_col7, #T_f04ab_row2_col7, #T_f04ab_row2_col10, #T_f04ab_row3_col3, #T_f04ab_row3_col4, #T_f04ab_row3_col7, #T_f04ab_row4_col1, #T_f04ab_row4_col4, #T_f04ab_row4_col7, #T_f04ab_row4_col8 {\n  background-color: #fff7fb;\n  color: #000000;\n}\n#T_f04ab_row0_col3 {\n  background-color: #2685bb;\n  color: #f1f1f1;\n}\n#T_f04ab_row0_col10 {\n  background-color: #faf2f8;\n  color: #000000;\n}\n#T_f04ab_row1_col1 {\n  background-color: #4094c3;\n  color: #f1f1f1;\n}\n#T_f04ab_row1_col3 {\n  background-color: #045a8d;\n  color: #f1f1f1;\n}\n#T_f04ab_row1_col4, #T_f04ab_row2_col4 {\n  background-color: #d1d2e6;\n  color: #000000;\n}\n#T_f04ab_row1_col5, #T_f04ab_row2_col3, #T_f04ab_row3_col1 {\n  background-color: #d9d8ea;\n  color: #000000;\n}\n#T_f04ab_row1_col6, #T_f04ab_row2_col0 {\n  background-color: #acc0dd;\n  color: #000000;\n}\n#T_f04ab_row1_col8 {\n  background-color: #04649d;\n  color: #f1f1f1;\n}\n#T_f04ab_row1_col9 {\n  background-color: #e0deed;\n  color: #000000;\n}\n#T_f04ab_row1_col10 {\n  background-color: #d3d4e7;\n  color: #000000;\n}\n#T_f04ab_row2_col1 {\n  background-color: #a7bddb;\n  color: #000000;\n}\n#T_f04ab_row2_col2 {\n  background-color: #b4c4df;\n  color: #000000;\n}\n#T_f04ab_row2_col8 {\n  background-color: #f1ebf5;\n  color: #000000;\n}\n#T_f04ab_row2_col9 {\n  background-color: #c1cae2;\n  color: #000000;\n}\n#T_f04ab_row3_col0 {\n  background-color: #69a5cc;\n  color: #f1f1f1;\n}\n#T_f04ab_row3_col2 {\n  background-color: #7eadd1;\n  color: #f1f1f1;\n}\n#T_f04ab_row3_col5 {\n  background-color: #0569a5;\n  color: #f1f1f1;\n}\n#T_f04ab_row3_col6 {\n  background-color: #71a8ce;\n  color: #f1f1f1;\n}\n#T_f04ab_row3_col8 {\n  background-color: #c9cee4;\n  color: #000000;\n}\n#T_f04ab_row3_col9 {\n  background-color: #2d8abd;\n  color: #f1f1f1;\n}\n#T_f04ab_row3_col10 {\n  background-color: #81aed2;\n  color: #f1f1f1;\n}\n#T_f04ab_row4_col5 {\n  background-color: #6fa7ce;\n  color: #f1f1f1;\n}\n#T_f04ab_row4_col6 {\n  background-color: #b9c6e0;\n  color: #000000;\n}\n</style>\n<table id=\"T_f04ab_\">\n  <thead>\n    <tr>\n      <th class=\"blank level0\" >&nbsp;</th>\n      <th class=\"col_heading level0 col0\" >fixed acidity</th>\n      <th class=\"col_heading level0 col1\" >volatile acidity</th>\n      <th class=\"col_heading level0 col2\" >citric acid</th>\n      <th class=\"col_heading level0 col3\" >residual sugar</th>\n      <th class=\"col_heading level0 col4\" >chlorides</th>\n      <th class=\"col_heading level0 col5\" >free sulfur dioxide</th>\n      <th class=\"col_heading level0 col6\" >total sulfur dioxide</th>\n      <th class=\"col_heading level0 col7\" >density</th>\n      <th class=\"col_heading level0 col8\" >pH</th>\n      <th class=\"col_heading level0 col9\" >sulphates</th>\n      <th class=\"col_heading level0 col10\" >alcohol</th>\n    </tr>\n    <tr>\n      <th class=\"index_name level0\" >quality</th>\n      <th class=\"blank col0\" >&nbsp;</th>\n      <th class=\"blank col1\" >&nbsp;</th>\n      <th class=\"blank col2\" >&nbsp;</th>\n      <th class=\"blank col3\" >&nbsp;</th>\n      <th class=\"blank col4\" >&nbsp;</th>\n      <th class=\"blank col5\" >&nbsp;</th>\n      <th class=\"blank col6\" >&nbsp;</th>\n      <th class=\"blank col7\" >&nbsp;</th>\n      <th class=\"blank col8\" >&nbsp;</th>\n      <th class=\"blank col9\" >&nbsp;</th>\n      <th class=\"blank col10\" >&nbsp;</th>\n    </tr>\n  </thead>\n  <tbody>\n    <tr>\n      <th id=\"T_f04ab_level0_row0\" class=\"row_heading level0 row0\" >3</th>\n      <td id=\"T_f04ab_row0_col0\" class=\"data row0 col0\" >8.360000</td>\n      <td id=\"T_f04ab_row0_col1\" class=\"data row0 col1\" >0.880000</td>\n      <td id=\"T_f04ab_row0_col2\" class=\"data row0 col2\" >0.170000</td>\n      <td id=\"T_f04ab_row0_col3\" class=\"data row0 col3\" >2.640000</td>\n      <td id=\"T_f04ab_row0_col4\" class=\"data row0 col4\" >0.120000</td>\n      <td id=\"T_f04ab_row0_col5\" class=\"data row0 col5\" >11.000000</td>\n      <td id=\"T_f04ab_row0_col6\" class=\"data row0 col6\" >24.900000</td>\n      <td id=\"T_f04ab_row0_col7\" class=\"data row0 col7\" >1.000000</td>\n      <td id=\"T_f04ab_row0_col8\" class=\"data row0 col8\" >3.400000</td>\n      <td id=\"T_f04ab_row0_col9\" class=\"data row0 col9\" >0.570000</td>\n      <td id=\"T_f04ab_row0_col10\" class=\"data row0 col10\" >9.960000</td>\n    </tr>\n    <tr>\n      <th id=\"T_f04ab_level0_row1\" class=\"row_heading level0 row1\" >4</th>\n      <td id=\"T_f04ab_row1_col0\" class=\"data row1 col0\" >7.780000</td>\n      <td id=\"T_f04ab_row1_col1\" class=\"data row1 col1\" >0.690000</td>\n      <td id=\"T_f04ab_row1_col2\" class=\"data row1 col2\" >0.170000</td>\n      <td id=\"T_f04ab_row1_col3\" class=\"data row1 col3\" >2.690000</td>\n      <td id=\"T_f04ab_row1_col4\" class=\"data row1 col4\" >0.090000</td>\n      <td id=\"T_f04ab_row1_col5\" class=\"data row1 col5\" >12.260000</td>\n      <td id=\"T_f04ab_row1_col6\" class=\"data row1 col6\" >36.250000</td>\n      <td id=\"T_f04ab_row1_col7\" class=\"data row1 col7\" >1.000000</td>\n      <td id=\"T_f04ab_row1_col8\" class=\"data row1 col8\" >3.380000</td>\n      <td id=\"T_f04ab_row1_col9\" class=\"data row1 col9\" >0.600000</td>\n      <td id=\"T_f04ab_row1_col10\" class=\"data row1 col10\" >10.270000</td>\n    </tr>\n    <tr>\n      <th id=\"T_f04ab_level0_row2\" class=\"row_heading level0 row2\" >5</th>\n      <td id=\"T_f04ab_row2_col0\" class=\"data row2 col0\" >8.170000</td>\n      <td id=\"T_f04ab_row2_col1\" class=\"data row2 col1\" >0.580000</td>\n      <td id=\"T_f04ab_row2_col2\" class=\"data row2 col2\" >0.240000</td>\n      <td id=\"T_f04ab_row2_col3\" class=\"data row2 col3\" >2.530000</td>\n      <td id=\"T_f04ab_row2_col4\" class=\"data row2 col4\" >0.090000</td>\n      <td id=\"T_f04ab_row2_col5\" class=\"data row2 col5\" >16.980000</td>\n      <td id=\"T_f04ab_row2_col6\" class=\"data row2 col6\" >56.510000</td>\n      <td id=\"T_f04ab_row2_col7\" class=\"data row2 col7\" >1.000000</td>\n      <td id=\"T_f04ab_row2_col8\" class=\"data row2 col8\" >3.300000</td>\n      <td id=\"T_f04ab_row2_col9\" class=\"data row2 col9\" >0.620000</td>\n      <td id=\"T_f04ab_row2_col10\" class=\"data row2 col10\" >9.900000</td>\n    </tr>\n    <tr>\n      <th id=\"T_f04ab_level0_row3\" class=\"row_heading level0 row3\" >6</th>\n      <td id=\"T_f04ab_row3_col0\" class=\"data row3 col0\" >8.350000</td>\n      <td id=\"T_f04ab_row3_col1\" class=\"data row3 col1\" >0.500000</td>\n      <td id=\"T_f04ab_row3_col2\" class=\"data row3 col2\" >0.270000</td>\n      <td id=\"T_f04ab_row3_col3\" class=\"data row3 col3\" >2.480000</td>\n      <td id=\"T_f04ab_row3_col4\" class=\"data row3 col4\" >0.080000</td>\n      <td id=\"T_f04ab_row3_col5\" class=\"data row3 col5\" >15.710000</td>\n      <td id=\"T_f04ab_row3_col6\" class=\"data row3 col6\" >40.870000</td>\n      <td id=\"T_f04ab_row3_col7\" class=\"data row3 col7\" >1.000000</td>\n      <td id=\"T_f04ab_row3_col8\" class=\"data row3 col8\" >3.320000</td>\n      <td id=\"T_f04ab_row3_col9\" class=\"data row3 col9\" >0.680000</td>\n      <td id=\"T_f04ab_row3_col10\" class=\"data row3 col10\" >10.630000</td>\n    </tr>\n    <tr>\n      <th id=\"T_f04ab_level0_row4\" class=\"row_heading level0 row4\" >7</th>\n      <td id=\"T_f04ab_row4_col0\" class=\"data row4 col0\" >8.870000</td>\n      <td id=\"T_f04ab_row4_col1\" class=\"data row4 col1\" >0.400000</td>\n      <td id=\"T_f04ab_row4_col2\" class=\"data row4 col2\" >0.380000</td>\n      <td id=\"T_f04ab_row4_col3\" class=\"data row4 col3\" >2.720000</td>\n      <td id=\"T_f04ab_row4_col4\" class=\"data row4 col4\" >0.080000</td>\n      <td id=\"T_f04ab_row4_col5\" class=\"data row4 col5\" >14.050000</td>\n      <td id=\"T_f04ab_row4_col6\" class=\"data row4 col6\" >35.020000</td>\n      <td id=\"T_f04ab_row4_col7\" class=\"data row4 col7\" >1.000000</td>\n      <td id=\"T_f04ab_row4_col8\" class=\"data row4 col8\" >3.290000</td>\n      <td id=\"T_f04ab_row4_col9\" class=\"data row4 col9\" >0.740000</td>\n      <td id=\"T_f04ab_row4_col10\" class=\"data row4 col10\" >11.470000</td>\n    </tr>\n  </tbody>\n</table>\n"
     },
     "execution_count": 3,
     "metadata": {},
     "output_type": "execute_result"
    }
   ],
   "source": [
    "dt_new = dataset.groupby('quality',axis=0).mean().round(2)\n",
    "dt_new.head().style.background_gradient(axis=0)"
   ],
   "metadata": {
    "collapsed": false,
    "pycharm": {
     "name": "#%%\n"
    }
   }
  },
  {
   "cell_type": "code",
   "execution_count": 4,
   "outputs": [],
   "source": [
    "c = []\n",
    "for q in dataset['quality'].values:\n",
    "    if q < 6:\n",
    "        c.append([1,0,0])\n",
    "    elif q > 6:\n",
    "        c.append([0,0,1])\n",
    "    else:\n",
    "        c.append([0,1,0])\n",
    "ca = np.array(c)\n",
    "ma = np.arange(1599)"
   ],
   "metadata": {
    "collapsed": false,
    "pycharm": {
     "name": "#%%\n"
    }
   }
  },
  {
   "cell_type": "code",
   "execution_count": 5,
   "outputs": [],
   "source": [
    "X = dataset.drop([\"quality\",\"density\"],axis=1)"
   ],
   "metadata": {
    "collapsed": false,
    "pycharm": {
     "name": "#%%\n"
    }
   }
  },
  {
   "cell_type": "code",
   "execution_count": 6,
   "outputs": [],
   "source": [
    "ones = np.ones((1,X.shape[0]))\n",
    "X = np.hstack((ones.T,X))"
   ],
   "metadata": {
    "collapsed": false,
    "pycharm": {
     "name": "#%%\n"
    }
   }
  },
  {
   "cell_type": "code",
   "execution_count": 7,
   "outputs": [],
   "source": [
    "from sklearn.model_selection import train_test_split\n",
    "X_train, X_test, N_train, N_test = train_test_split(X, ma, train_size=0.8, random_state=10000)"
   ],
   "metadata": {
    "collapsed": false,
    "pycharm": {
     "name": "#%%\n"
    }
   }
  },
  {
   "cell_type": "code",
   "execution_count": 8,
   "outputs": [
    {
     "data": {
      "text/plain": "array([1, 1, 1, 1, 1, 0, 0, 1, 1, 0, 1, 0, 1, 1, 1, 2, 0, 1, 1, 1, 0, 0,\n       0, 1, 1, 1, 0, 0, 2, 0, 0, 2, 0, 0, 1, 0, 0, 0, 0, 0, 2, 1, 1, 1,\n       1, 0, 1, 1, 0, 0, 1, 1, 0, 0, 0, 1, 1, 1, 0, 0, 0, 0, 2, 0, 1, 1,\n       0, 1, 0, 2, 0, 1, 1, 0, 1, 0, 1, 1, 0, 0, 2, 0, 0, 1, 0, 0, 1, 0,\n       2, 0, 0, 0, 0, 0, 1, 1, 1, 1, 0, 0, 0, 0, 1, 1, 0, 0, 0, 0, 1, 0,\n       1, 1, 1, 0, 0, 1, 0, 0, 1, 1, 0, 1, 1, 0, 0, 0, 1, 1, 0, 0, 1, 1,\n       1, 2, 1, 1, 0, 0, 0, 0, 0, 1, 0, 0, 2, 0, 1, 2, 0, 0, 1, 0, 1, 2,\n       1, 0, 0, 1, 2, 1, 0, 1, 1, 0, 0, 0, 1, 0, 2, 2, 2, 1, 0, 0, 1, 1,\n       0, 0, 1, 1, 0, 0, 1, 0, 1, 2, 1, 1, 1, 2, 1, 2, 1, 2, 0, 1, 0, 2,\n       1, 0, 0, 1, 2, 0, 0, 0, 0, 1, 0, 1, 2, 1, 0, 1, 2, 0, 0, 0, 0, 0,\n       1, 1, 0, 2, 1, 2, 0, 1, 0, 0, 0, 0, 1, 0, 1, 0, 0, 1, 1, 0, 0, 0,\n       1, 0, 0, 0, 0, 0, 1, 1, 0, 1, 0, 1, 1, 0, 1, 2, 1, 0, 1, 1, 1, 0,\n       1, 0, 1, 0, 0, 0, 0, 0, 0, 1, 1, 0, 1, 2, 1, 0, 0, 0, 1, 0, 1, 1,\n       1, 1, 0, 0, 1, 0, 2, 1, 1, 0, 1, 0, 0, 1, 0, 0, 0, 0, 1, 1, 0, 1,\n       1, 0, 1, 0, 1, 1, 1, 1, 1, 1, 1, 2])"
     },
     "execution_count": 8,
     "metadata": {},
     "output_type": "execute_result"
    }
   ],
   "source": [
    "def convert_label(c , N, size):\n",
    "    y=[]\n",
    "    for i in range(size):\n",
    "       y.append(c[N[i]])\n",
    "    return y\n",
    "def test_samples(ca, N, size):\n",
    "    y=[]\n",
    "    for i in range(size):\n",
    "        if ca[N[i]] == [1,0,0]:\n",
    "            y.append(0)\n",
    "        if ca[N[i]] == [0,0,1]:\n",
    "            y.append(2)\n",
    "        if ca[N[i]] == [0,1,0]:\n",
    "            y.append(1)\n",
    "    return y\n",
    "y_train = np.array(convert_label(c,N_train,size=1279))\n",
    "y_test = np.array(test_samples(c,N_test,size=320))\n",
    "y_test"
   ],
   "metadata": {
    "collapsed": false,
    "pycharm": {
     "name": "#%%\n"
    }
   }
  },
  {
   "cell_type": "code",
   "execution_count": 9,
   "outputs": [],
   "source": [
    "W_init = np.random.rand(X_train.shape[1],3)\n",
    "y_train = y_train.T\n",
    "X_train = X_train.T"
   ],
   "metadata": {
    "collapsed": false,
    "pycharm": {
     "name": "#%%\n"
    }
   }
  },
  {
   "cell_type": "code",
   "execution_count": 10,
   "outputs": [],
   "source": [
    "def softmax(Z):\n",
    "    \"\"\"\n",
    "    X ∈ R(d,N) ,\n",
    "    y ∈ R(c,N) ,\n",
    "    W ∈ R(d,c) ,\n",
    "    :param Z: = W.T.dot(X) ∈ R(c,N) .\n",
    "    :return: softmax(z)\n",
    "    \"\"\"\n",
    "    e_Z = np.exp(Z -np.max(Z, axis=0,keepdims=True))\n",
    "    return e_Z / e_Z.sum(axis=0)"
   ],
   "metadata": {
    "collapsed": false,
    "pycharm": {
     "name": "#%%\n"
    }
   }
  },
  {
   "cell_type": "code",
   "execution_count": 11,
   "outputs": [],
   "source": [
    "def cost(X, y, W):\n",
    "    \"\"\"\n",
    "    :param X: ∈ R(d,N)\n",
    "    :param y: ∈ R(c,N)\n",
    "    :param W: W ∈ R(d,c)\n",
    "    :return: cross entropy\n",
    "    \"\"\"\n",
    "    a = softmax(W.T.dot(X))\n",
    "    return - np.sum(y*np.log(a))"
   ],
   "metadata": {
    "collapsed": false,
    "pycharm": {
     "name": "#%%\n"
    }
   }
  },
  {
   "cell_type": "code",
   "execution_count": 12,
   "outputs": [],
   "source": [
    "def gradient(X, y, W):\n",
    "    a = softmax(W.T.dot(X))\n",
    "    e = a - y\n",
    "    return X.dot(e.T)"
   ],
   "metadata": {
    "collapsed": false,
    "pycharm": {
     "name": "#%%\n"
    }
   }
  },
  {
   "cell_type": "code",
   "execution_count": 13,
   "outputs": [],
   "source": [
    "def update(X, y, W_init , epouch, eta, tol=1e-4):\n",
    "\n",
    "    \"\"\"\n",
    "    :param X: ∈ R(d,N)\n",
    "    :param y: ∈ R(c,N)\n",
    "    :param W_init: W ∈ R(d,c)\n",
    "    \"\"\"\n",
    "\n",
    "    W = [W_init]\n",
    "    C = W_init.shape[1]\n",
    "    N = X.shape[1]\n",
    "    d = X.shape[0]\n",
    "    count =0\n",
    "    check_w_after = 20\n",
    "    while count<epouch:\n",
    "        mix_id = np.random.permutation(N)\n",
    "        for i in mix_id:\n",
    "            xi = X[:, i].reshape(d, 1)\n",
    "            yi = y[:, i].reshape(C, 1)\n",
    "            ai = softmax(np.dot(W[-1].T,xi))\n",
    "            W_new  = W[-1] + eta * xi . dot((yi-ai).T) / N\n",
    "            count+= 1\n",
    "            if count%check_w_after==0:\n",
    "                if np.linalg.norm(W_new -  W[-check_w_after])<tol:\n",
    "                    return W\n",
    "            W.append(W_new)\n",
    "    return W"
   ],
   "metadata": {
    "collapsed": false,
    "pycharm": {
     "name": "#%%\n"
    }
   }
  },
  {
   "cell_type": "code",
   "execution_count": 14,
   "outputs": [
    {
     "data": {
      "text/plain": "array([[ 0.73277362,  0.65368389, -0.24899664],\n       [ 0.25404776,  0.18557747,  0.10180183],\n       [ 1.03474689,  0.0301309 , -0.13628937],\n       [ 0.18730369,  0.46587225,  0.99005481],\n       [ 0.3530641 ,  0.35814728,  0.39874589],\n       [ 0.76231095,  0.39376622,  0.49038496],\n       [ 0.36049516,  0.39108364,  0.38765419],\n       [ 0.67554029,  0.65584262,  0.64262546],\n       [ 2.01338489,  0.66766998, -0.82501484],\n       [-0.30673715,  0.36170452,  1.03206034],\n       [-0.02344306,  0.51081497,  0.98997208]])"
     },
     "execution_count": 14,
     "metadata": {},
     "output_type": "execute_result"
    }
   ],
   "source": [
    "eta = .05\n",
    "epouch = 1000000\n",
    "W = update(X_train,y_train,W_init,epouch,eta)\n",
    "W[-1]"
   ],
   "metadata": {
    "collapsed": false,
    "pycharm": {
     "name": "#%%\n"
    }
   }
  },
  {
   "cell_type": "code",
   "execution_count": 15,
   "outputs": [],
   "source": [
    "def pred(X, W):\n",
    "    A = softmax((W.T).dot(X))\n",
    "    return np.argmax(A,axis=0)"
   ],
   "metadata": {
    "collapsed": false,
    "pycharm": {
     "name": "#%%\n"
    }
   }
  },
  {
   "cell_type": "code",
   "execution_count": 16,
   "outputs": [],
   "source": [
    "y_res = pred(X_test.T, W[-1])"
   ],
   "metadata": {
    "collapsed": false,
    "pycharm": {
     "name": "#%%\n"
    }
   }
  },
  {
   "cell_type": "code",
   "execution_count": 17,
   "outputs": [
    {
     "name": "stdout",
     "output_type": "stream",
     "text": [
      "Accuracy score: 62.5 %.\n"
     ]
    }
   ],
   "source": [
    "from sklearn.metrics import accuracy_score\n",
    "print(\"Accuracy score: {} %.\".format(accuracy_score(y_test,y_res)*100))"
   ],
   "metadata": {
    "collapsed": false,
    "pycharm": {
     "name": "#%%\n"
    }
   }
  }
 ],
 "metadata": {
  "kernelspec": {
   "display_name": "Python 3",
   "language": "python",
   "name": "python3"
  },
  "language_info": {
   "codemirror_mode": {
    "name": "ipython",
    "version": 2
   },
   "file_extension": ".py",
   "mimetype": "text/x-python",
   "name": "python",
   "nbconvert_exporter": "python",
   "pygments_lexer": "ipython2",
   "version": "2.7.6"
  }
 },
 "nbformat": 4,
 "nbformat_minor": 0
}